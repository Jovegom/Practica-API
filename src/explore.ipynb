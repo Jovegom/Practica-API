{
    "cells": [
        {
            "cell_type": "markdown",
            "metadata": {},
            "source": [
                "# Explore here"
            ]
        },
        {
            "cell_type": "code",
            "execution_count": 107,
            "metadata": {},
            "outputs": [
                {
                    "data": {
                        "text/plain": [
                            "True"
                        ]
                    },
                    "execution_count": 107,
                    "metadata": {},
                    "output_type": "execute_result"
                }
            ],
            "source": [
                "import os\n",
                "import pandas as pd\n",
                "import matplotlib.pyplot as plt\n",
                "from dotenv import load_dotenv\n",
                "import spotipy\n",
                "from spotipy.oauth2 import SpotifyClientCredentials\n",
                "\n",
                "# load the .env file variables\n",
                "load_dotenv()\n"
            ]
        },
        {
            "cell_type": "code",
            "execution_count": 108,
            "metadata": {},
            "outputs": [],
            "source": [
                "# Get credential values\n",
                "client_id = os.environ.get(\"CLIENT_ID\")\n",
                "client_secret = os.environ.get(\"CLIENT_SECRET\")"
            ]
        },
        {
            "cell_type": "code",
            "execution_count": 109,
            "metadata": {},
            "outputs": [],
            "source": [
                "# Spotify API credentials\n",
                "auth_manager = SpotifyClientCredentials(client_id=client_id, client_secret=client_secret)\n",
                "spotify = spotipy.Spotify(auth_manager=auth_manager)\n",
                "sp = spotipy.Spotify(auth_manager=SpotifyClientCredentials(client_id=\"client_id\",client_secret=\"client_secret\"))"
            ]
        },
        {
            "cell_type": "markdown",
            "metadata": {},
            "source": [
                "Hacemos peticiones API"
            ]
        },
        {
            "cell_type": "code",
            "execution_count": 110,
            "metadata": {},
            "outputs": [
                {
                    "data": {
                        "text/html": [
                            "<div>\n",
                            "<style scoped>\n",
                            "    .dataframe tbody tr th:only-of-type {\n",
                            "        vertical-align: middle;\n",
                            "    }\n",
                            "\n",
                            "    .dataframe tbody tr th {\n",
                            "        vertical-align: top;\n",
                            "    }\n",
                            "\n",
                            "    .dataframe thead th {\n",
                            "        text-align: right;\n",
                            "    }\n",
                            "</style>\n",
                            "<table border=\"1\" class=\"dataframe\">\n",
                            "  <thead>\n",
                            "    <tr style=\"text-align: right;\">\n",
                            "      <th></th>\n",
                            "      <th>nombre</th>\n",
                            "      <th>popularidad</th>\n",
                            "      <th>duracion(min)</th>\n",
                            "    </tr>\n",
                            "  </thead>\n",
                            "  <tbody>\n",
                            "    <tr>\n",
                            "      <th>0</th>\n",
                            "      <td>DtMF</td>\n",
                            "      <td>91</td>\n",
                            "      <td>3.95</td>\n",
                            "    </tr>\n",
                            "    <tr>\n",
                            "      <th>1</th>\n",
                            "      <td>BAILE INoLVIDABLE</td>\n",
                            "      <td>90</td>\n",
                            "      <td>6.13</td>\n",
                            "    </tr>\n",
                            "    <tr>\n",
                            "      <th>2</th>\n",
                            "      <td>NUEVAYoL</td>\n",
                            "      <td>89</td>\n",
                            "      <td>3.06</td>\n",
                            "    </tr>\n",
                            "    <tr>\n",
                            "      <th>3</th>\n",
                            "      <td>EoO</td>\n",
                            "      <td>89</td>\n",
                            "      <td>3.41</td>\n",
                            "    </tr>\n",
                            "    <tr>\n",
                            "      <th>4</th>\n",
                            "      <td>Qué Pasaría...</td>\n",
                            "      <td>88</td>\n",
                            "      <td>3.18</td>\n",
                            "    </tr>\n",
                            "    <tr>\n",
                            "      <th>5</th>\n",
                            "      <td>VeLDÁ</td>\n",
                            "      <td>87</td>\n",
                            "      <td>3.92</td>\n",
                            "    </tr>\n",
                            "    <tr>\n",
                            "      <th>6</th>\n",
                            "      <td>VOY A LLeVARTE PA PR</td>\n",
                            "      <td>87</td>\n",
                            "      <td>2.61</td>\n",
                            "    </tr>\n",
                            "    <tr>\n",
                            "      <th>7</th>\n",
                            "      <td>LA CANCIÓN</td>\n",
                            "      <td>86</td>\n",
                            "      <td>4.04</td>\n",
                            "    </tr>\n",
                            "    <tr>\n",
                            "      <th>8</th>\n",
                            "      <td>Diles</td>\n",
                            "      <td>85</td>\n",
                            "      <td>4.77</td>\n",
                            "    </tr>\n",
                            "    <tr>\n",
                            "      <th>9</th>\n",
                            "      <td>KLOuFRENS</td>\n",
                            "      <td>85</td>\n",
                            "      <td>3.32</td>\n",
                            "    </tr>\n",
                            "  </tbody>\n",
                            "</table>\n",
                            "</div>"
                        ],
                        "text/plain": [
                            "                 nombre  popularidad  duracion(min)\n",
                            "0                  DtMF           91           3.95\n",
                            "1     BAILE INoLVIDABLE           90           6.13\n",
                            "2              NUEVAYoL           89           3.06\n",
                            "3                   EoO           89           3.41\n",
                            "4        Qué Pasaría...           88           3.18\n",
                            "5                 VeLDÁ           87           3.92\n",
                            "6  VOY A LLeVARTE PA PR           87           2.61\n",
                            "7            LA CANCIÓN           86           4.04\n",
                            "8                 Diles           85           4.77\n",
                            "9             KLOuFRENS           85           3.32"
                        ]
                    },
                    "execution_count": 110,
                    "metadata": {},
                    "output_type": "execute_result"
                }
            ],
            "source": [
                "artist_id = \"4q3ewBCX7sLwd24euuV69X\"\n",
                "\n",
                "# Get the top tracks of an artist\n",
                "top_albunes = spotify.artist_top_tracks(artist_id,'ES')\n",
                "albunes=top_albunes['tracks']\n",
                "datos=[]\n",
                "for i in albunes:\n",
                "    data={}\n",
                "    for clave, valor in i.items():\n",
                "            if clave==\"name\":\n",
                "                data['nombre']=valor\n",
                "            elif clave==\"duration_ms\":\n",
                "                data['duracion(min)']=round((valor/1000)/60,2)\n",
                "            elif clave==\"popularity\":\n",
                "                data['popularidad']=valor\n",
                "            \n",
                "    datos.append(data)\n",
                "\n",
                "\n",
                "df=pd.DataFrame(datos)\n",
                "df_Final=df[['nombre','popularidad','duracion(min)']]\n",
                "df_Final=df_Final.sort_values(by=\"popularidad\",ascending=False)\n",
                "df_Final\n"
            ]
        },
        {
            "cell_type": "markdown",
            "metadata": {},
            "source": [
                "Analisis relacion estadistica"
            ]
        },
        {
            "cell_type": "code",
            "execution_count": 111,
            "metadata": {},
            "outputs": [
                {
                    "data": {
                        "image/png": "[encoded data removed]",
                        "text/plain": [
                            "<Figure size 640x480 with 1 Axes>"
                        ]
                    },
                    "metadata": {},
                    "output_type": "display_data"
                }
            ],
            "source": [
                "plt.scatter(x=df_Final[\"duracion(min)\"],y=df_Final[\"popularidad\"])\n",
                "plt.xlabel(\"Duracion(min)\")\n",
                "plt.ylabel(\"Popularidad\")\n",
                "plt.show()"
            ]
        },
        {
            "cell_type": "code",
            "execution_count": 122,
            "metadata": {},
            "outputs": [
                {
                    "name": "stdout",
                    "output_type": "stream",
                    "text": [
                        "La variable duracion y popularidad tienen una correalcion del 17.201826596970527 %\n"
                    ]
                }
            ],
            "source": [
                "correlacion=df_Final[\"duracion(min)\"].corr(df_Final[\"popularidad\"])\n",
                "print(f\"La variable duracion y popularidad tienen una correalcion del {correlacion*100} %\")"
            ]
        },
        {
            "cell_type": "markdown",
            "metadata": {},
            "source": [
                "viendo el grafico y habiendo obtenido la corralacion entre ambas variables podemos apreciar que la popularidad no depende o no esta correlacionada con la duracion de la cancion para el artista Bad Bunny"
            ]
        }
    ],
    "metadata": {
        "kernelspec": {
            "display_name": "Python 3",
            "language": "python",
            "name": "python3"
        },
        "language_info": {
            "codemirror_mode": {
                "name": "ipython",
                "version": 3
            },
            "file_extension": ".py",
            "mimetype": "text/x-python",
            "name": "python",
            "nbconvert_exporter": "python",
            "pygments_lexer": "ipython3",
            "version": "3.11.4"
        },
        "orig_nbformat": 4
    },
    "nbformat": 4,
    "nbformat_minor": 2
}
